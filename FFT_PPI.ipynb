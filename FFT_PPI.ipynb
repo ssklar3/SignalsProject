{
 "cells": [
  {
   "cell_type": "code",
   "execution_count": 1,
   "metadata": {},
   "outputs": [],
   "source": [
    "import os\n",
    "import torch\n",
    "from scipy.stats import special_ortho_group\n",
    "from toil.job import Job\n",
    "from molmimic.common.voxels import ProteinVoxelizer\n",
    "from molmimic.common.featurizer import ProteinFeaturizer"
   ]
  },
  {
   "cell_type": "code",
   "execution_count": 7,
   "metadata": {},
   "outputs": [],
   "source": [
    "def get_structure(pdb_file):\n",
    "    \"\"\"Read structure and features (or calculate if not present)\"\"\"\n",
    "    features_path = os.path.dirname(pdb_file)\n",
    "    try:\n",
    "        protein = ProteinVoxelizer(\n",
    "            pdb_file, \n",
    "            os.path.splitext(os.path.basename(pdb_file))[0], \n",
    "            features_path=features_path)\n",
    "    except FileNotFoundError:\n",
    "        print(\"---\")\n",
    "        #Calculate features\n",
    "        protein = ProteinFeaturizer(\n",
    "            pdb_file, \n",
    "            os.path.splitext(os.path.basename(pdb_file))[0], \n",
    "            Job(), \n",
    "            os.path.dirname(pdb_file), \n",
    "            force_feature_calculation=True)\n",
    "        \n",
    "        #Only calculate accesible surface area\n",
    "        [protein.get_accessible_surface_area_residue(protein._remove_altloc(a)) for a in protein.get_atoms()]\n",
    "        \n",
    "        #Try reading again\n",
    "        protein = ProteinVoxelizer(\n",
    "            pdb_file, \n",
    "            os.path.splitext(os.path.basename(pdb_file))[0], \n",
    "            features_path=features_path)\n",
    "    \n",
    "    return protein"
   ]
  },
  {
   "cell_type": "code",
   "execution_count": 3,
   "metadata": {},
   "outputs": [],
   "source": [
    "def dock_pair(receptor_file, ligand_file, rotations=100):\n",
    "    #Read receptor and features (or calculate if not present)\n",
    "    receptor = get_structure(receptor_file)\n",
    "        \n",
    "    #Read ligand and features (or calculate if not present)\n",
    "    ligand = get_structure(ligand_file)\n",
    "        \n",
    "    #Map receptor to voxels\n",
    "    receptor_indices, receptor_data, _ = receptor.map_atoms_to_voxel_space(\n",
    "        autoencoder=True,\n",
    "        only_surface=False,\n",
    "        simple_fft=True)\n",
    "    receptor_volume = torch.zeros(256,256,256)\n",
    "    receptor_volume[receptor_indices] = receptor_data\n",
    "    del receptor_indices, receptor_data, _\n",
    "    receptor_volume.cuda()\n",
    "    \n",
    "    #Create Fourier image of receptor\n",
    "    receptor_fft = torch.fft(receptor_volume)\n",
    "    \n",
    "    del receptor_volume\n",
    "    \n",
    "    best_ligand = None\n",
    "    best_energy = None\n",
    "    \n",
    "    for i in range(rotations):\n",
    "        rot_mat = special_ortho_group.rvs(3)\n",
    "        print(\"Running rotation i:\", rot_mat)\n",
    "        \n",
    "        #Rotate ligand\n",
    "        next(ligand.rotate(rot_mat))\n",
    "        \n",
    "        #Map ligand to voxels\n",
    "        ligand_indices, ligand_data, _ = ligand.map_atoms_to_voxel_space(\n",
    "            autoencoder=True,\n",
    "            only_surface=False,\n",
    "            simple_fft=True)\n",
    "        ligand_volume = torch.zeros(256,256,256)\n",
    "        ligand_volume[ligand_indices] = ligand_data\n",
    "        del ligand_indices, ligand_data, _\n",
    "        ligand_volume.cuda()\n",
    "        \n",
    "        #Create Fourier image of rotated ligand\n",
    "        ligand_fft = torch.fft(ligand_volume)\n",
    "        \n",
    "        #Calculate energy using the convolution thm\n",
    "        energy = torch.ifft(receptor_fft*ligand_fft)\n",
    "        \n",
    "        del ligand_volume, ligand_fft\n",
    "        \n",
    "        if energy<best_energy:\n",
    "            best_energy = energy.item()\n",
    "            best_ligand = ligand\n",
    "            del energy\n",
    "            return\n",
    "        \n",
    "        del ligand\n",
    "    \n",
    "    return best_ligand, best_energy"
   ]
  },
  {
   "cell_type": "code",
   "execution_count": 8,
   "metadata": {},
   "outputs": [
    {
     "name": "stdout",
     "output_type": "stream",
     "text": [
      "atom_feature_mode r\n",
      "---\n",
      "force_feature_calculation w+\n",
      "atom_feature_mode w+\n",
      "atom_feature_mode r\n"
     ]
    },
    {
     "ename": "FileNotFoundError",
     "evalue": "File BM5-clean/HADDOCK-ready/1A2K/1A2K_r_u_atom.h5 does not exist",
     "output_type": "error",
     "traceback": [
      "\u001b[0;31m---------------------------------------------------------------------------\u001b[0m",
      "\u001b[0;31mFileNotFoundError\u001b[0m                         Traceback (most recent call last)",
      "\u001b[0;32m<ipython-input-7-d1692409ef07>\u001b[0m in \u001b[0;36mget_structure\u001b[0;34m(pdb_file)\u001b[0m\n\u001b[1;32m      7\u001b[0m             \u001b[0mos\u001b[0m\u001b[0;34m.\u001b[0m\u001b[0mpath\u001b[0m\u001b[0;34m.\u001b[0m\u001b[0msplitext\u001b[0m\u001b[0;34m(\u001b[0m\u001b[0mos\u001b[0m\u001b[0;34m.\u001b[0m\u001b[0mpath\u001b[0m\u001b[0;34m.\u001b[0m\u001b[0mbasename\u001b[0m\u001b[0;34m(\u001b[0m\u001b[0mpdb_file\u001b[0m\u001b[0;34m)\u001b[0m\u001b[0;34m)\u001b[0m\u001b[0;34m[\u001b[0m\u001b[0;36m0\u001b[0m\u001b[0;34m]\u001b[0m\u001b[0;34m,\u001b[0m\u001b[0;34m\u001b[0m\u001b[0;34m\u001b[0m\u001b[0m\n\u001b[0;32m----> 8\u001b[0;31m             features_path=features_path)\n\u001b[0m\u001b[1;32m      9\u001b[0m     \u001b[0;32mexcept\u001b[0m \u001b[0mFileNotFoundError\u001b[0m\u001b[0;34m:\u001b[0m\u001b[0;34m\u001b[0m\u001b[0;34m\u001b[0m\u001b[0m\n",
      "\u001b[0;32m/project/ppi_workspace/toil-env36/lib/python3.6/site-packages/molmimic/common/voxels.py\u001b[0m in \u001b[0;36m__init__\u001b[0;34m(self, path, cath_domain, input_format, volume, voxel_size, rotate, features_path, residue_feature_mode, use_features)\u001b[0m\n\u001b[1;32m     22\u001b[0m             \u001b[0mfeatures_path\u001b[0m\u001b[0;34m=\u001b[0m\u001b[0mfeatures_path\u001b[0m\u001b[0;34m,\u001b[0m\u001b[0;34m\u001b[0m\u001b[0;34m\u001b[0m\u001b[0m\n\u001b[0;32m---> 23\u001b[0;31m             residue_feature_mode=residue_feature_mode)\n\u001b[0m\u001b[1;32m     24\u001b[0m \u001b[0;34m\u001b[0m\u001b[0m\n",
      "\u001b[0;32m/project/ppi_workspace/toil-env36/lib/python3.6/site-packages/molmimic/common/Structure.py\u001b[0m in \u001b[0;36m__init__\u001b[0;34m(self, path, cath_domain, input_format, feature_mode, features_path, residue_feature_mode)\u001b[0m\n\u001b[1;32m     94\u001b[0m         \u001b[0;32mif\u001b[0m \u001b[0mself\u001b[0m\u001b[0;34m.\u001b[0m\u001b[0matom_feature_mode\u001b[0m \u001b[0;34m==\u001b[0m \u001b[0;34m\"r\"\u001b[0m\u001b[0;34m:\u001b[0m\u001b[0;34m\u001b[0m\u001b[0;34m\u001b[0m\u001b[0m\n\u001b[0;32m---> 95\u001b[0;31m             \u001b[0mself\u001b[0m\u001b[0;34m.\u001b[0m\u001b[0matom_features\u001b[0m \u001b[0;34m=\u001b[0m \u001b[0mpd\u001b[0m\u001b[0;34m.\u001b[0m\u001b[0mread_hdf\u001b[0m\u001b[0;34m(\u001b[0m\u001b[0mself\u001b[0m\u001b[0;34m.\u001b[0m\u001b[0matom_features_file\u001b[0m\u001b[0;34m,\u001b[0m \u001b[0;34m\"table\"\u001b[0m\u001b[0;34m,\u001b[0m \u001b[0mmode\u001b[0m\u001b[0;34m=\u001b[0m\u001b[0;34m\"r\"\u001b[0m\u001b[0;34m)\u001b[0m\u001b[0;34m\u001b[0m\u001b[0;34m\u001b[0m\u001b[0m\n\u001b[0m\u001b[1;32m     96\u001b[0m         \u001b[0;32melse\u001b[0m\u001b[0;34m:\u001b[0m\u001b[0;34m\u001b[0m\u001b[0;34m\u001b[0m\u001b[0m\n",
      "\u001b[0;32m/project/ppi_workspace/toil-env36/lib/python3.6/site-packages/pandas/io/pytables.py\u001b[0m in \u001b[0;36mread_hdf\u001b[0;34m(path_or_buf, key, mode, **kwargs)\u001b[0m\n\u001b[1;32m    380\u001b[0m             raise FileNotFoundError(\n\u001b[0;32m--> 381\u001b[0;31m                 \u001b[0;34m\"File {path} does not exist\"\u001b[0m\u001b[0;34m.\u001b[0m\u001b[0mformat\u001b[0m\u001b[0;34m(\u001b[0m\u001b[0mpath\u001b[0m\u001b[0;34m=\u001b[0m\u001b[0mpath_or_buf\u001b[0m\u001b[0;34m)\u001b[0m\u001b[0;34m\u001b[0m\u001b[0;34m\u001b[0m\u001b[0m\n\u001b[0m\u001b[1;32m    382\u001b[0m             )\n",
      "\u001b[0;31mFileNotFoundError\u001b[0m: File BM5-clean/HADDOCK-ready/1A2K/1A2K_r_u_atom.h5 does not exist",
      "\nDuring handling of the above exception, another exception occurred:\n",
      "\u001b[0;31mFileNotFoundError\u001b[0m                         Traceback (most recent call last)",
      "\u001b[0;32m<ipython-input-8-7653f170ce4d>\u001b[0m in \u001b[0;36m<module>\u001b[0;34m\u001b[0m\n\u001b[0;32m----> 1\u001b[0;31m \u001b[0mligand\u001b[0m\u001b[0;34m,\u001b[0m \u001b[0menergy\u001b[0m \u001b[0;34m=\u001b[0m \u001b[0mdock_pair\u001b[0m\u001b[0;34m(\u001b[0m\u001b[0;34m\"BM5-clean/HADDOCK-ready/1A2K/1A2K_r_u.pdb\"\u001b[0m\u001b[0;34m,\u001b[0m \u001b[0;34m\"BM5-clean/HADDOCK-ready/1A2K/1A2K_l_u.pdb\"\u001b[0m\u001b[0;34m)\u001b[0m\u001b[0;34m\u001b[0m\u001b[0;34m\u001b[0m\u001b[0m\n\u001b[0m",
      "\u001b[0;32m<ipython-input-3-31dda86a8231>\u001b[0m in \u001b[0;36mdock_pair\u001b[0;34m(receptor_file, ligand_file, rotations)\u001b[0m\n\u001b[1;32m      1\u001b[0m \u001b[0;32mdef\u001b[0m \u001b[0mdock_pair\u001b[0m\u001b[0;34m(\u001b[0m\u001b[0mreceptor_file\u001b[0m\u001b[0;34m,\u001b[0m \u001b[0mligand_file\u001b[0m\u001b[0;34m,\u001b[0m \u001b[0mrotations\u001b[0m\u001b[0;34m=\u001b[0m\u001b[0;36m100\u001b[0m\u001b[0;34m)\u001b[0m\u001b[0;34m:\u001b[0m\u001b[0;34m\u001b[0m\u001b[0;34m\u001b[0m\u001b[0m\n\u001b[1;32m      2\u001b[0m     \u001b[0;31m#Read receptor and features (or calculate if not present)\u001b[0m\u001b[0;34m\u001b[0m\u001b[0;34m\u001b[0m\u001b[0;34m\u001b[0m\u001b[0m\n\u001b[0;32m----> 3\u001b[0;31m     \u001b[0mreceptor\u001b[0m \u001b[0;34m=\u001b[0m \u001b[0mget_structure\u001b[0m\u001b[0;34m(\u001b[0m\u001b[0mreceptor_file\u001b[0m\u001b[0;34m)\u001b[0m\u001b[0;34m\u001b[0m\u001b[0;34m\u001b[0m\u001b[0m\n\u001b[0m\u001b[1;32m      4\u001b[0m \u001b[0;34m\u001b[0m\u001b[0m\n\u001b[1;32m      5\u001b[0m     \u001b[0;31m#Read ligand and features (or calculate if not present)\u001b[0m\u001b[0;34m\u001b[0m\u001b[0;34m\u001b[0m\u001b[0;34m\u001b[0m\u001b[0m\n",
      "\u001b[0;32m<ipython-input-7-d1692409ef07>\u001b[0m in \u001b[0;36mget_structure\u001b[0;34m(pdb_file)\u001b[0m\n\u001b[1;32m     24\u001b[0m             \u001b[0mpdb_file\u001b[0m\u001b[0;34m,\u001b[0m\u001b[0;34m\u001b[0m\u001b[0;34m\u001b[0m\u001b[0m\n\u001b[1;32m     25\u001b[0m             \u001b[0mos\u001b[0m\u001b[0;34m.\u001b[0m\u001b[0mpath\u001b[0m\u001b[0;34m.\u001b[0m\u001b[0msplitext\u001b[0m\u001b[0;34m(\u001b[0m\u001b[0mos\u001b[0m\u001b[0;34m.\u001b[0m\u001b[0mpath\u001b[0m\u001b[0;34m.\u001b[0m\u001b[0mbasename\u001b[0m\u001b[0;34m(\u001b[0m\u001b[0mpdb_file\u001b[0m\u001b[0;34m)\u001b[0m\u001b[0;34m)\u001b[0m\u001b[0;34m[\u001b[0m\u001b[0;36m0\u001b[0m\u001b[0;34m]\u001b[0m\u001b[0;34m,\u001b[0m\u001b[0;34m\u001b[0m\u001b[0;34m\u001b[0m\u001b[0m\n\u001b[0;32m---> 26\u001b[0;31m             features_path=features_path)\n\u001b[0m\u001b[1;32m     27\u001b[0m \u001b[0;34m\u001b[0m\u001b[0m\n\u001b[1;32m     28\u001b[0m     \u001b[0;32mreturn\u001b[0m \u001b[0mprotein\u001b[0m\u001b[0;34m\u001b[0m\u001b[0;34m\u001b[0m\u001b[0m\n",
      "\u001b[0;32m/project/ppi_workspace/toil-env36/lib/python3.6/site-packages/molmimic/common/voxels.py\u001b[0m in \u001b[0;36m__init__\u001b[0;34m(self, path, cath_domain, input_format, volume, voxel_size, rotate, features_path, residue_feature_mode, use_features)\u001b[0m\n\u001b[1;32m     21\u001b[0m             \u001b[0minput_format\u001b[0m\u001b[0;34m=\u001b[0m\u001b[0minput_format\u001b[0m\u001b[0;34m,\u001b[0m \u001b[0mfeature_mode\u001b[0m\u001b[0;34m=\u001b[0m\u001b[0;34m\"r\"\u001b[0m\u001b[0;34m,\u001b[0m\u001b[0;34m\u001b[0m\u001b[0;34m\u001b[0m\u001b[0m\n\u001b[1;32m     22\u001b[0m             \u001b[0mfeatures_path\u001b[0m\u001b[0;34m=\u001b[0m\u001b[0mfeatures_path\u001b[0m\u001b[0;34m,\u001b[0m\u001b[0;34m\u001b[0m\u001b[0;34m\u001b[0m\u001b[0m\n\u001b[0;32m---> 23\u001b[0;31m             residue_feature_mode=residue_feature_mode)\n\u001b[0m\u001b[1;32m     24\u001b[0m \u001b[0;34m\u001b[0m\u001b[0m\n\u001b[1;32m     25\u001b[0m         \u001b[0mself\u001b[0m\u001b[0;34m.\u001b[0m\u001b[0mmean_coord\u001b[0m \u001b[0;34m=\u001b[0m \u001b[0mnp\u001b[0m\u001b[0;34m.\u001b[0m\u001b[0mzeros\u001b[0m\u001b[0;34m(\u001b[0m\u001b[0;36m3\u001b[0m\u001b[0;34m)\u001b[0m\u001b[0;34m\u001b[0m\u001b[0;34m\u001b[0m\u001b[0m\n",
      "\u001b[0;32m/project/ppi_workspace/toil-env36/lib/python3.6/site-packages/molmimic/common/Structure.py\u001b[0m in \u001b[0;36m__init__\u001b[0;34m(self, path, cath_domain, input_format, feature_mode, features_path, residue_feature_mode)\u001b[0m\n\u001b[1;32m     93\u001b[0m         \u001b[0matom_index\u001b[0m \u001b[0;34m=\u001b[0m \u001b[0;34m[\u001b[0m\u001b[0mself\u001b[0m\u001b[0;34m.\u001b[0m\u001b[0m_remove_altloc\u001b[0m\u001b[0;34m(\u001b[0m\u001b[0ma\u001b[0m\u001b[0;34m)\u001b[0m\u001b[0;34m.\u001b[0m\u001b[0mserial_number\u001b[0m \u001b[0;32mfor\u001b[0m \u001b[0ma\u001b[0m \u001b[0;32min\u001b[0m \u001b[0mself\u001b[0m\u001b[0;34m.\u001b[0m\u001b[0mstructure\u001b[0m\u001b[0;34m.\u001b[0m\u001b[0mget_atoms\u001b[0m\u001b[0;34m(\u001b[0m\u001b[0;34m)\u001b[0m\u001b[0;34m]\u001b[0m\u001b[0;34m\u001b[0m\u001b[0;34m\u001b[0m\u001b[0m\n\u001b[1;32m     94\u001b[0m         \u001b[0;32mif\u001b[0m \u001b[0mself\u001b[0m\u001b[0;34m.\u001b[0m\u001b[0matom_feature_mode\u001b[0m \u001b[0;34m==\u001b[0m \u001b[0;34m\"r\"\u001b[0m\u001b[0;34m:\u001b[0m\u001b[0;34m\u001b[0m\u001b[0;34m\u001b[0m\u001b[0m\n\u001b[0;32m---> 95\u001b[0;31m             \u001b[0mself\u001b[0m\u001b[0;34m.\u001b[0m\u001b[0matom_features\u001b[0m \u001b[0;34m=\u001b[0m \u001b[0mpd\u001b[0m\u001b[0;34m.\u001b[0m\u001b[0mread_hdf\u001b[0m\u001b[0;34m(\u001b[0m\u001b[0mself\u001b[0m\u001b[0;34m.\u001b[0m\u001b[0matom_features_file\u001b[0m\u001b[0;34m,\u001b[0m \u001b[0;34m\"table\"\u001b[0m\u001b[0;34m,\u001b[0m \u001b[0mmode\u001b[0m\u001b[0;34m=\u001b[0m\u001b[0;34m\"r\"\u001b[0m\u001b[0;34m)\u001b[0m\u001b[0;34m\u001b[0m\u001b[0;34m\u001b[0m\u001b[0m\n\u001b[0m\u001b[1;32m     96\u001b[0m         \u001b[0;32melse\u001b[0m\u001b[0;34m:\u001b[0m\u001b[0;34m\u001b[0m\u001b[0;34m\u001b[0m\u001b[0m\n\u001b[1;32m     97\u001b[0m             \u001b[0mself\u001b[0m\u001b[0;34m.\u001b[0m\u001b[0matom_features\u001b[0m \u001b[0;34m=\u001b[0m \u001b[0mdefault_atom_feature_df\u001b[0m\u001b[0;34m(\u001b[0m\u001b[0mlen\u001b[0m\u001b[0;34m(\u001b[0m\u001b[0matom_index\u001b[0m\u001b[0;34m)\u001b[0m\u001b[0;34m)\u001b[0m\u001b[0;34m.\u001b[0m\u001b[0mreindex\u001b[0m\u001b[0;34m(\u001b[0m\u001b[0matom_index\u001b[0m\u001b[0;34m,\u001b[0m \u001b[0maxis\u001b[0m\u001b[0;34m=\u001b[0m\u001b[0;36m0\u001b[0m\u001b[0;34m)\u001b[0m\u001b[0;34m\u001b[0m\u001b[0;34m\u001b[0m\u001b[0m\n",
      "\u001b[0;32m/project/ppi_workspace/toil-env36/lib/python3.6/site-packages/pandas/io/pytables.py\u001b[0m in \u001b[0;36mread_hdf\u001b[0;34m(path_or_buf, key, mode, **kwargs)\u001b[0m\n\u001b[1;32m    379\u001b[0m         \u001b[0;32mif\u001b[0m \u001b[0;32mnot\u001b[0m \u001b[0mexists\u001b[0m\u001b[0;34m:\u001b[0m\u001b[0;34m\u001b[0m\u001b[0;34m\u001b[0m\u001b[0m\n\u001b[1;32m    380\u001b[0m             raise FileNotFoundError(\n\u001b[0;32m--> 381\u001b[0;31m                 \u001b[0;34m\"File {path} does not exist\"\u001b[0m\u001b[0;34m.\u001b[0m\u001b[0mformat\u001b[0m\u001b[0;34m(\u001b[0m\u001b[0mpath\u001b[0m\u001b[0;34m=\u001b[0m\u001b[0mpath_or_buf\u001b[0m\u001b[0;34m)\u001b[0m\u001b[0;34m\u001b[0m\u001b[0;34m\u001b[0m\u001b[0m\n\u001b[0m\u001b[1;32m    382\u001b[0m             )\n\u001b[1;32m    383\u001b[0m \u001b[0;34m\u001b[0m\u001b[0m\n",
      "\u001b[0;31mFileNotFoundError\u001b[0m: File BM5-clean/HADDOCK-ready/1A2K/1A2K_r_u_atom.h5 does not exist"
     ]
    }
   ],
   "source": [
    "ligand, energy = dock_pair(\"BM5-clean/HADDOCK-ready/1A2K/1A2K_r_u.pdb\", \"BM5-clean/HADDOCK-ready/1A2K/1A2K_l_u.pdb\")"
   ]
  },
  {
   "cell_type": "code",
   "execution_count": null,
   "metadata": {},
   "outputs": [],
   "source": []
  }
 ],
 "metadata": {
  "kernelspec": {
   "display_name": "toil-env36",
   "language": "python",
   "name": "toil-env36"
  },
  "language_info": {
   "codemirror_mode": {
    "name": "ipython",
    "version": 3
   },
   "file_extension": ".py",
   "mimetype": "text/x-python",
   "name": "python",
   "nbconvert_exporter": "python",
   "pygments_lexer": "ipython3",
   "version": "3.6.9"
  }
 },
 "nbformat": 4,
 "nbformat_minor": 4
}
