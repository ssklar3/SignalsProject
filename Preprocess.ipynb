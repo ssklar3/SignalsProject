{
 "cells": [
  {
   "cell_type": "code",
   "execution_count": 1,
   "metadata": {},
   "outputs": [],
   "source": [
    "from molmimic.common.featurizer import ProteinFeaturizer\n",
    "from toil.job import Job\n",
    "import os\n",
    "import numpy as np\n",
    "from joblib import Parallel, delayed\n",
    "import glob"
   ]
  },
  {
   "cell_type": "code",
   "execution_count": 4,
   "metadata": {},
   "outputs": [],
   "source": [
    "def write_surface_xyz(pdb_file):\n",
    "    protein = ProteinFeaturizer(pdb_file, os.path.splitext(os.path.basename(pdb_file))[0], \n",
    "                                Job(), os.path.dirname(pdb_file), force_feature_calculation=True)\n",
    "    [protein.get_accessible_surface_area_residue(protein._remove_altloc(a)) for a in protein.get_atoms()]\n",
    "    \n",
    "    xyz = np.array([[atom.serial_number, features.residue_rasa, *atom.coord] for atom, features in \\\n",
    "        zip(protein.get_atoms(), protein.atom_features.itertuples()) \\\n",
    "        if not features.residue_buried])\n",
    "    np.savez(os.path.splitext(pdb_file)[0], xyz)\n",
    "    print(\"Done\", pdb_file)"
   ]
  },
  {
   "cell_type": "code",
   "execution_count": null,
   "metadata": {},
   "outputs": [],
   "source": [
    "Parallel(n_jobs=8)(delayed(write_surface_xyz)(p) for p in \\\n",
    "                  glob.glob(\"BM5-clean/HADDOCK-ready/*/*_u.pdb\"))"
   ]
  },
  {
   "cell_type": "code",
   "execution_count": 9,
   "metadata": {},
   "outputs": [
    {
     "name": "stdout",
     "output_type": "stream",
     "text": [
      "BM5-clean/HADDOCK-ready/2YVJ/2YVJ_l_u.pdb : could not convert string to float: 'NA'\n"
     ]
    }
   ],
   "source": [
    "for p in glob.glob(\"BM5-clean/HADDOCK-ready/*/*_u.pdb\"):\n",
    "    if not os.path.isfile(os.path.splitext(p)[0]+\".npz\"): \n",
    "        try:\n",
    "            write_surface_xyz(p)\n",
    "        except (SystemExit, KeyboardInterrupt):\n",
    "            raise\n",
    "        except Exception as e:\n",
    "            print(p, \":\", e)"
   ]
  },
  {
   "cell_type": "code",
   "execution_count": 36,
   "metadata": {},
   "outputs": [],
   "source": [
    "def parse_tbl(tbl_file):\n",
    "    path = os.path.dirname(tbl_file)\n",
    "    pdb = os.path.basename(path)\n",
    "    true_file = os.path.join(path, pdb+\"_true.tsv\")\n",
    "    print(\"2\", true_file)\n",
    "    with open(tbl_file) as f:\n",
    "        print(f.read().splitlines()[:3])\n",
    "    with open(tbl_file) as tbl, open(true_file, \"w\") as out:\n",
    "        print(\"#Receptor_resid\\tLigand_resid\", file=out)\n",
    "        resi_A = None\n",
    "        for line in tbl:\n",
    "            print(line)\n",
    "            if \"assign\" in line and \"segid A\" in line:\n",
    "                resi_A = line.strip().split()[3]\n",
    "            elif \"resid\" in line and \"segid A\" in line:\n",
    "                resi_B = line.strip().split()[2]\n",
    "                print(\"{}\\t{}\".format(resi_A, resi_B), file=out)\n",
    "    print(\"Done\", pdb)"
   ]
  },
  {
   "cell_type": "code",
   "execution_count": null,
   "metadata": {},
   "outputs": [],
   "source": [
    "for tbl_file in sorted(glob.glob(\"BM5-clean/HADDOCK-ready/*/ambig.tbl\")):\n",
    "    with open(tbl_file) as f:\n",
    "        print(f.read().splitlines()[:3])\n",
    "    path = os.path.dirname(tbl_file)\n",
    "    pdb = os.path.basename(path)\n",
    "    true_file = os.path.join(path, pdb+\"_true.tsv\")\n",
    "    print(\"1\", true_file)\n",
    "    if True: # not os.path.isfile(true_file): \n",
    "        try:\n",
    "            print(\"tbl\", tbl_file)\n",
    "            parse_tbl(tbl_file)\n",
    "        except (SystemExit, KeyboardInterrupt):\n",
    "            raise\n",
    "        except Exception as e:\n",
    "            print(p, \":\", e)"
   ]
  },
  {
   "cell_type": "code",
   "execution_count": null,
   "metadata": {},
   "outputs": [],
   "source": []
  }
 ],
 "metadata": {
  "kernelspec": {
   "display_name": "toil-env36",
   "language": "python",
   "name": "toil-env36"
  },
  "language_info": {
   "codemirror_mode": {
    "name": "ipython",
    "version": 3
   },
   "file_extension": ".py",
   "mimetype": "text/x-python",
   "name": "python",
   "nbconvert_exporter": "python",
   "pygments_lexer": "ipython3",
   "version": "3.6.9"
  }
 },
 "nbformat": 4,
 "nbformat_minor": 4
}
